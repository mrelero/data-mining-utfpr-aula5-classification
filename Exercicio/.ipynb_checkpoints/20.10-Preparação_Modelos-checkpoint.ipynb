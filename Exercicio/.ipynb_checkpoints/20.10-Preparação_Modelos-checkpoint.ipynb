{
 "cells": [
  {
   "cell_type": "markdown",
   "id": "treated-tablet",
   "metadata": {},
   "source": [
    "# Aula prática: Preparação dos modelos"
   ]
  },
  {
   "cell_type": "code",
   "execution_count": 1,
   "id": "biblical-weekly",
   "metadata": {},
   "outputs": [],
   "source": [
    "import pandas as pd\n",
    "import numpy as np\n",
    "from sklearn.model_selection import train_test_split"
   ]
  },
  {
   "cell_type": "code",
   "execution_count": 2,
   "id": "continuous-bobby",
   "metadata": {},
   "outputs": [],
   "source": [
    "df = pd.read_csv('churn.csv')"
   ]
  },
  {
   "cell_type": "code",
   "execution_count": 3,
   "id": "registered-symposium",
   "metadata": {},
   "outputs": [
    {
     "data": {
      "text/html": [
       "<div>\n",
       "<style scoped>\n",
       "    .dataframe tbody tr th:only-of-type {\n",
       "        vertical-align: middle;\n",
       "    }\n",
       "\n",
       "    .dataframe tbody tr th {\n",
       "        vertical-align: top;\n",
       "    }\n",
       "\n",
       "    .dataframe thead th {\n",
       "        text-align: right;\n",
       "    }\n",
       "</style>\n",
       "<table border=\"1\" class=\"dataframe\">\n",
       "  <thead>\n",
       "    <tr style=\"text-align: right;\">\n",
       "      <th></th>\n",
       "      <th>state</th>\n",
       "      <th>account_length</th>\n",
       "      <th>area_code</th>\n",
       "      <th>international_plan</th>\n",
       "      <th>voice_mail_plan</th>\n",
       "      <th>number_vmail_messages</th>\n",
       "      <th>total_day_minutes</th>\n",
       "      <th>total_day_calls</th>\n",
       "      <th>total_day_charge</th>\n",
       "      <th>total_eve_minutes</th>\n",
       "      <th>total_eve_calls</th>\n",
       "      <th>total_eve_charge</th>\n",
       "      <th>total_night_minutes</th>\n",
       "      <th>total_night_calls</th>\n",
       "      <th>total_night_charge</th>\n",
       "      <th>total_intl_minutes</th>\n",
       "      <th>total_intl_calls</th>\n",
       "      <th>total_intl_charge</th>\n",
       "      <th>number_customer_service_calls</th>\n",
       "      <th>churn</th>\n",
       "    </tr>\n",
       "  </thead>\n",
       "  <tbody>\n",
       "    <tr>\n",
       "      <th>0</th>\n",
       "      <td>OH</td>\n",
       "      <td>107</td>\n",
       "      <td>area_code_415</td>\n",
       "      <td>no</td>\n",
       "      <td>yes</td>\n",
       "      <td>26</td>\n",
       "      <td>161.6</td>\n",
       "      <td>123</td>\n",
       "      <td>27.47</td>\n",
       "      <td>195.5</td>\n",
       "      <td>103</td>\n",
       "      <td>16.62</td>\n",
       "      <td>254.4</td>\n",
       "      <td>103</td>\n",
       "      <td>11.45</td>\n",
       "      <td>13.7</td>\n",
       "      <td>3</td>\n",
       "      <td>3.70</td>\n",
       "      <td>1</td>\n",
       "      <td>no</td>\n",
       "    </tr>\n",
       "    <tr>\n",
       "      <th>1</th>\n",
       "      <td>NJ</td>\n",
       "      <td>137</td>\n",
       "      <td>area_code_415</td>\n",
       "      <td>no</td>\n",
       "      <td>no</td>\n",
       "      <td>0</td>\n",
       "      <td>243.4</td>\n",
       "      <td>114</td>\n",
       "      <td>41.38</td>\n",
       "      <td>121.2</td>\n",
       "      <td>110</td>\n",
       "      <td>10.30</td>\n",
       "      <td>162.6</td>\n",
       "      <td>104</td>\n",
       "      <td>7.32</td>\n",
       "      <td>12.2</td>\n",
       "      <td>5</td>\n",
       "      <td>3.29</td>\n",
       "      <td>0</td>\n",
       "      <td>no</td>\n",
       "    </tr>\n",
       "    <tr>\n",
       "      <th>2</th>\n",
       "      <td>OH</td>\n",
       "      <td>84</td>\n",
       "      <td>area_code_408</td>\n",
       "      <td>yes</td>\n",
       "      <td>no</td>\n",
       "      <td>0</td>\n",
       "      <td>299.4</td>\n",
       "      <td>71</td>\n",
       "      <td>50.90</td>\n",
       "      <td>61.9</td>\n",
       "      <td>88</td>\n",
       "      <td>5.26</td>\n",
       "      <td>196.9</td>\n",
       "      <td>89</td>\n",
       "      <td>8.86</td>\n",
       "      <td>6.6</td>\n",
       "      <td>7</td>\n",
       "      <td>1.78</td>\n",
       "      <td>2</td>\n",
       "      <td>no</td>\n",
       "    </tr>\n",
       "    <tr>\n",
       "      <th>3</th>\n",
       "      <td>OK</td>\n",
       "      <td>75</td>\n",
       "      <td>area_code_415</td>\n",
       "      <td>yes</td>\n",
       "      <td>no</td>\n",
       "      <td>0</td>\n",
       "      <td>166.7</td>\n",
       "      <td>113</td>\n",
       "      <td>28.34</td>\n",
       "      <td>148.3</td>\n",
       "      <td>122</td>\n",
       "      <td>12.61</td>\n",
       "      <td>186.9</td>\n",
       "      <td>121</td>\n",
       "      <td>8.41</td>\n",
       "      <td>10.1</td>\n",
       "      <td>3</td>\n",
       "      <td>2.73</td>\n",
       "      <td>3</td>\n",
       "      <td>no</td>\n",
       "    </tr>\n",
       "    <tr>\n",
       "      <th>4</th>\n",
       "      <td>MA</td>\n",
       "      <td>121</td>\n",
       "      <td>area_code_510</td>\n",
       "      <td>no</td>\n",
       "      <td>yes</td>\n",
       "      <td>24</td>\n",
       "      <td>218.2</td>\n",
       "      <td>88</td>\n",
       "      <td>37.09</td>\n",
       "      <td>348.5</td>\n",
       "      <td>108</td>\n",
       "      <td>29.62</td>\n",
       "      <td>212.6</td>\n",
       "      <td>118</td>\n",
       "      <td>9.57</td>\n",
       "      <td>7.5</td>\n",
       "      <td>7</td>\n",
       "      <td>2.03</td>\n",
       "      <td>3</td>\n",
       "      <td>no</td>\n",
       "    </tr>\n",
       "    <tr>\n",
       "      <th>5</th>\n",
       "      <td>MO</td>\n",
       "      <td>147</td>\n",
       "      <td>area_code_415</td>\n",
       "      <td>yes</td>\n",
       "      <td>no</td>\n",
       "      <td>0</td>\n",
       "      <td>157.0</td>\n",
       "      <td>79</td>\n",
       "      <td>26.69</td>\n",
       "      <td>103.1</td>\n",
       "      <td>94</td>\n",
       "      <td>8.76</td>\n",
       "      <td>211.8</td>\n",
       "      <td>96</td>\n",
       "      <td>9.53</td>\n",
       "      <td>7.1</td>\n",
       "      <td>6</td>\n",
       "      <td>1.92</td>\n",
       "      <td>0</td>\n",
       "      <td>no</td>\n",
       "    </tr>\n",
       "    <tr>\n",
       "      <th>6</th>\n",
       "      <td>LA</td>\n",
       "      <td>117</td>\n",
       "      <td>area_code_408</td>\n",
       "      <td>no</td>\n",
       "      <td>no</td>\n",
       "      <td>0</td>\n",
       "      <td>184.5</td>\n",
       "      <td>97</td>\n",
       "      <td>31.37</td>\n",
       "      <td>351.6</td>\n",
       "      <td>80</td>\n",
       "      <td>29.89</td>\n",
       "      <td>215.8</td>\n",
       "      <td>90</td>\n",
       "      <td>9.71</td>\n",
       "      <td>8.7</td>\n",
       "      <td>4</td>\n",
       "      <td>2.35</td>\n",
       "      <td>1</td>\n",
       "      <td>no</td>\n",
       "    </tr>\n",
       "    <tr>\n",
       "      <th>7</th>\n",
       "      <td>WV</td>\n",
       "      <td>141</td>\n",
       "      <td>area_code_415</td>\n",
       "      <td>yes</td>\n",
       "      <td>yes</td>\n",
       "      <td>37</td>\n",
       "      <td>258.6</td>\n",
       "      <td>84</td>\n",
       "      <td>43.96</td>\n",
       "      <td>222.0</td>\n",
       "      <td>111</td>\n",
       "      <td>18.87</td>\n",
       "      <td>326.4</td>\n",
       "      <td>97</td>\n",
       "      <td>14.69</td>\n",
       "      <td>11.2</td>\n",
       "      <td>5</td>\n",
       "      <td>3.02</td>\n",
       "      <td>0</td>\n",
       "      <td>no</td>\n",
       "    </tr>\n",
       "    <tr>\n",
       "      <th>8</th>\n",
       "      <td>IN</td>\n",
       "      <td>65</td>\n",
       "      <td>area_code_415</td>\n",
       "      <td>no</td>\n",
       "      <td>no</td>\n",
       "      <td>0</td>\n",
       "      <td>129.1</td>\n",
       "      <td>137</td>\n",
       "      <td>21.95</td>\n",
       "      <td>228.5</td>\n",
       "      <td>83</td>\n",
       "      <td>19.42</td>\n",
       "      <td>208.8</td>\n",
       "      <td>111</td>\n",
       "      <td>9.40</td>\n",
       "      <td>12.7</td>\n",
       "      <td>6</td>\n",
       "      <td>3.43</td>\n",
       "      <td>4</td>\n",
       "      <td>yes</td>\n",
       "    </tr>\n",
       "    <tr>\n",
       "      <th>9</th>\n",
       "      <td>RI</td>\n",
       "      <td>74</td>\n",
       "      <td>area_code_415</td>\n",
       "      <td>no</td>\n",
       "      <td>no</td>\n",
       "      <td>0</td>\n",
       "      <td>187.7</td>\n",
       "      <td>127</td>\n",
       "      <td>31.91</td>\n",
       "      <td>163.4</td>\n",
       "      <td>148</td>\n",
       "      <td>13.89</td>\n",
       "      <td>196.0</td>\n",
       "      <td>94</td>\n",
       "      <td>8.82</td>\n",
       "      <td>9.1</td>\n",
       "      <td>5</td>\n",
       "      <td>2.46</td>\n",
       "      <td>0</td>\n",
       "      <td>no</td>\n",
       "    </tr>\n",
       "  </tbody>\n",
       "</table>\n",
       "</div>"
      ],
      "text/plain": [
       "  state  account_length      area_code international_plan voice_mail_plan  \\\n",
       "0    OH             107  area_code_415                 no             yes   \n",
       "1    NJ             137  area_code_415                 no              no   \n",
       "2    OH              84  area_code_408                yes              no   \n",
       "3    OK              75  area_code_415                yes              no   \n",
       "4    MA             121  area_code_510                 no             yes   \n",
       "5    MO             147  area_code_415                yes              no   \n",
       "6    LA             117  area_code_408                 no              no   \n",
       "7    WV             141  area_code_415                yes             yes   \n",
       "8    IN              65  area_code_415                 no              no   \n",
       "9    RI              74  area_code_415                 no              no   \n",
       "\n",
       "   number_vmail_messages  total_day_minutes  total_day_calls  \\\n",
       "0                     26              161.6              123   \n",
       "1                      0              243.4              114   \n",
       "2                      0              299.4               71   \n",
       "3                      0              166.7              113   \n",
       "4                     24              218.2               88   \n",
       "5                      0              157.0               79   \n",
       "6                      0              184.5               97   \n",
       "7                     37              258.6               84   \n",
       "8                      0              129.1              137   \n",
       "9                      0              187.7              127   \n",
       "\n",
       "   total_day_charge  total_eve_minutes  total_eve_calls  total_eve_charge  \\\n",
       "0             27.47              195.5              103             16.62   \n",
       "1             41.38              121.2              110             10.30   \n",
       "2             50.90               61.9               88              5.26   \n",
       "3             28.34              148.3              122             12.61   \n",
       "4             37.09              348.5              108             29.62   \n",
       "5             26.69              103.1               94              8.76   \n",
       "6             31.37              351.6               80             29.89   \n",
       "7             43.96              222.0              111             18.87   \n",
       "8             21.95              228.5               83             19.42   \n",
       "9             31.91              163.4              148             13.89   \n",
       "\n",
       "   total_night_minutes  total_night_calls  total_night_charge  \\\n",
       "0                254.4                103               11.45   \n",
       "1                162.6                104                7.32   \n",
       "2                196.9                 89                8.86   \n",
       "3                186.9                121                8.41   \n",
       "4                212.6                118                9.57   \n",
       "5                211.8                 96                9.53   \n",
       "6                215.8                 90                9.71   \n",
       "7                326.4                 97               14.69   \n",
       "8                208.8                111                9.40   \n",
       "9                196.0                 94                8.82   \n",
       "\n",
       "   total_intl_minutes  total_intl_calls  total_intl_charge  \\\n",
       "0                13.7                 3               3.70   \n",
       "1                12.2                 5               3.29   \n",
       "2                 6.6                 7               1.78   \n",
       "3                10.1                 3               2.73   \n",
       "4                 7.5                 7               2.03   \n",
       "5                 7.1                 6               1.92   \n",
       "6                 8.7                 4               2.35   \n",
       "7                11.2                 5               3.02   \n",
       "8                12.7                 6               3.43   \n",
       "9                 9.1                 5               2.46   \n",
       "\n",
       "   number_customer_service_calls churn  \n",
       "0                              1    no  \n",
       "1                              0    no  \n",
       "2                              2    no  \n",
       "3                              3    no  \n",
       "4                              3    no  \n",
       "5                              0    no  \n",
       "6                              1    no  \n",
       "7                              0    no  \n",
       "8                              4   yes  \n",
       "9                              0    no  "
      ]
     },
     "execution_count": 3,
     "metadata": {},
     "output_type": "execute_result"
    }
   ],
   "source": [
    "df.head(10)"
   ]
  },
  {
   "cell_type": "code",
   "execution_count": 4,
   "id": "frozen-episode",
   "metadata": {},
   "outputs": [
    {
     "name": "stdout",
     "output_type": "stream",
     "text": [
      "<class 'pandas.core.frame.DataFrame'>\n",
      "RangeIndex: 4250 entries, 0 to 4249\n",
      "Data columns (total 20 columns):\n",
      " #   Column                         Non-Null Count  Dtype  \n",
      "---  ------                         --------------  -----  \n",
      " 0   state                          4250 non-null   object \n",
      " 1   account_length                 4250 non-null   int64  \n",
      " 2   area_code                      4250 non-null   object \n",
      " 3   international_plan             4250 non-null   object \n",
      " 4   voice_mail_plan                4250 non-null   object \n",
      " 5   number_vmail_messages          4250 non-null   int64  \n",
      " 6   total_day_minutes              4250 non-null   float64\n",
      " 7   total_day_calls                4250 non-null   int64  \n",
      " 8   total_day_charge               4250 non-null   float64\n",
      " 9   total_eve_minutes              4250 non-null   float64\n",
      " 10  total_eve_calls                4250 non-null   int64  \n",
      " 11  total_eve_charge               4250 non-null   float64\n",
      " 12  total_night_minutes            4250 non-null   float64\n",
      " 13  total_night_calls              4250 non-null   int64  \n",
      " 14  total_night_charge             4250 non-null   float64\n",
      " 15  total_intl_minutes             4250 non-null   float64\n",
      " 16  total_intl_calls               4250 non-null   int64  \n",
      " 17  total_intl_charge              4250 non-null   float64\n",
      " 18  number_customer_service_calls  4250 non-null   int64  \n",
      " 19  churn                          4250 non-null   object \n",
      "dtypes: float64(8), int64(7), object(5)\n",
      "memory usage: 664.2+ KB\n"
     ]
    }
   ],
   "source": [
    "df.info()"
   ]
  },
  {
   "cell_type": "code",
   "execution_count": 5,
   "id": "wound-attention",
   "metadata": {},
   "outputs": [
    {
     "data": {
      "text/plain": [
       "no     3652\n",
       "yes     598\n",
       "Name: churn, dtype: int64"
      ]
     },
     "execution_count": 5,
     "metadata": {},
     "output_type": "execute_result"
    }
   ],
   "source": [
    "df.churn.value_counts()"
   ]
  },
  {
   "cell_type": "markdown",
   "id": "cleared-sharp",
   "metadata": {},
   "source": [
    "## Vamos fazer algumas transformações rápidas...\n",
    "* Deletar as três primeiras variáveis\n",
    "* Transformar (binarizar) as variáveis: \"international_plan\"e \"voice_mail_plan\""
   ]
  },
  {
   "cell_type": "code",
   "execution_count": 6,
   "id": "typical-cornwall",
   "metadata": {},
   "outputs": [
    {
     "data": {
      "text/html": [
       "<div>\n",
       "<style scoped>\n",
       "    .dataframe tbody tr th:only-of-type {\n",
       "        vertical-align: middle;\n",
       "    }\n",
       "\n",
       "    .dataframe tbody tr th {\n",
       "        vertical-align: top;\n",
       "    }\n",
       "\n",
       "    .dataframe thead th {\n",
       "        text-align: right;\n",
       "    }\n",
       "</style>\n",
       "<table border=\"1\" class=\"dataframe\">\n",
       "  <thead>\n",
       "    <tr style=\"text-align: right;\">\n",
       "      <th></th>\n",
       "      <th>number_vmail_messages</th>\n",
       "      <th>total_day_minutes</th>\n",
       "      <th>total_day_calls</th>\n",
       "      <th>total_day_charge</th>\n",
       "      <th>total_eve_minutes</th>\n",
       "      <th>total_eve_calls</th>\n",
       "      <th>total_eve_charge</th>\n",
       "      <th>total_night_minutes</th>\n",
       "      <th>total_night_calls</th>\n",
       "      <th>total_night_charge</th>\n",
       "      <th>total_intl_minutes</th>\n",
       "      <th>total_intl_calls</th>\n",
       "      <th>total_intl_charge</th>\n",
       "      <th>number_customer_service_calls</th>\n",
       "      <th>international_plan_yes</th>\n",
       "      <th>voice_mail_plan_yes</th>\n",
       "      <th>churn_yes</th>\n",
       "    </tr>\n",
       "  </thead>\n",
       "  <tbody>\n",
       "    <tr>\n",
       "      <th>0</th>\n",
       "      <td>26</td>\n",
       "      <td>161.6</td>\n",
       "      <td>123</td>\n",
       "      <td>27.47</td>\n",
       "      <td>195.5</td>\n",
       "      <td>103</td>\n",
       "      <td>16.62</td>\n",
       "      <td>254.4</td>\n",
       "      <td>103</td>\n",
       "      <td>11.45</td>\n",
       "      <td>13.7</td>\n",
       "      <td>3</td>\n",
       "      <td>3.70</td>\n",
       "      <td>1</td>\n",
       "      <td>0</td>\n",
       "      <td>1</td>\n",
       "      <td>0</td>\n",
       "    </tr>\n",
       "    <tr>\n",
       "      <th>1</th>\n",
       "      <td>0</td>\n",
       "      <td>243.4</td>\n",
       "      <td>114</td>\n",
       "      <td>41.38</td>\n",
       "      <td>121.2</td>\n",
       "      <td>110</td>\n",
       "      <td>10.30</td>\n",
       "      <td>162.6</td>\n",
       "      <td>104</td>\n",
       "      <td>7.32</td>\n",
       "      <td>12.2</td>\n",
       "      <td>5</td>\n",
       "      <td>3.29</td>\n",
       "      <td>0</td>\n",
       "      <td>0</td>\n",
       "      <td>0</td>\n",
       "      <td>0</td>\n",
       "    </tr>\n",
       "    <tr>\n",
       "      <th>2</th>\n",
       "      <td>0</td>\n",
       "      <td>299.4</td>\n",
       "      <td>71</td>\n",
       "      <td>50.90</td>\n",
       "      <td>61.9</td>\n",
       "      <td>88</td>\n",
       "      <td>5.26</td>\n",
       "      <td>196.9</td>\n",
       "      <td>89</td>\n",
       "      <td>8.86</td>\n",
       "      <td>6.6</td>\n",
       "      <td>7</td>\n",
       "      <td>1.78</td>\n",
       "      <td>2</td>\n",
       "      <td>1</td>\n",
       "      <td>0</td>\n",
       "      <td>0</td>\n",
       "    </tr>\n",
       "    <tr>\n",
       "      <th>3</th>\n",
       "      <td>0</td>\n",
       "      <td>166.7</td>\n",
       "      <td>113</td>\n",
       "      <td>28.34</td>\n",
       "      <td>148.3</td>\n",
       "      <td>122</td>\n",
       "      <td>12.61</td>\n",
       "      <td>186.9</td>\n",
       "      <td>121</td>\n",
       "      <td>8.41</td>\n",
       "      <td>10.1</td>\n",
       "      <td>3</td>\n",
       "      <td>2.73</td>\n",
       "      <td>3</td>\n",
       "      <td>1</td>\n",
       "      <td>0</td>\n",
       "      <td>0</td>\n",
       "    </tr>\n",
       "    <tr>\n",
       "      <th>4</th>\n",
       "      <td>24</td>\n",
       "      <td>218.2</td>\n",
       "      <td>88</td>\n",
       "      <td>37.09</td>\n",
       "      <td>348.5</td>\n",
       "      <td>108</td>\n",
       "      <td>29.62</td>\n",
       "      <td>212.6</td>\n",
       "      <td>118</td>\n",
       "      <td>9.57</td>\n",
       "      <td>7.5</td>\n",
       "      <td>7</td>\n",
       "      <td>2.03</td>\n",
       "      <td>3</td>\n",
       "      <td>0</td>\n",
       "      <td>1</td>\n",
       "      <td>0</td>\n",
       "    </tr>\n",
       "    <tr>\n",
       "      <th>5</th>\n",
       "      <td>0</td>\n",
       "      <td>157.0</td>\n",
       "      <td>79</td>\n",
       "      <td>26.69</td>\n",
       "      <td>103.1</td>\n",
       "      <td>94</td>\n",
       "      <td>8.76</td>\n",
       "      <td>211.8</td>\n",
       "      <td>96</td>\n",
       "      <td>9.53</td>\n",
       "      <td>7.1</td>\n",
       "      <td>6</td>\n",
       "      <td>1.92</td>\n",
       "      <td>0</td>\n",
       "      <td>1</td>\n",
       "      <td>0</td>\n",
       "      <td>0</td>\n",
       "    </tr>\n",
       "    <tr>\n",
       "      <th>6</th>\n",
       "      <td>0</td>\n",
       "      <td>184.5</td>\n",
       "      <td>97</td>\n",
       "      <td>31.37</td>\n",
       "      <td>351.6</td>\n",
       "      <td>80</td>\n",
       "      <td>29.89</td>\n",
       "      <td>215.8</td>\n",
       "      <td>90</td>\n",
       "      <td>9.71</td>\n",
       "      <td>8.7</td>\n",
       "      <td>4</td>\n",
       "      <td>2.35</td>\n",
       "      <td>1</td>\n",
       "      <td>0</td>\n",
       "      <td>0</td>\n",
       "      <td>0</td>\n",
       "    </tr>\n",
       "    <tr>\n",
       "      <th>7</th>\n",
       "      <td>37</td>\n",
       "      <td>258.6</td>\n",
       "      <td>84</td>\n",
       "      <td>43.96</td>\n",
       "      <td>222.0</td>\n",
       "      <td>111</td>\n",
       "      <td>18.87</td>\n",
       "      <td>326.4</td>\n",
       "      <td>97</td>\n",
       "      <td>14.69</td>\n",
       "      <td>11.2</td>\n",
       "      <td>5</td>\n",
       "      <td>3.02</td>\n",
       "      <td>0</td>\n",
       "      <td>1</td>\n",
       "      <td>1</td>\n",
       "      <td>0</td>\n",
       "    </tr>\n",
       "    <tr>\n",
       "      <th>8</th>\n",
       "      <td>0</td>\n",
       "      <td>129.1</td>\n",
       "      <td>137</td>\n",
       "      <td>21.95</td>\n",
       "      <td>228.5</td>\n",
       "      <td>83</td>\n",
       "      <td>19.42</td>\n",
       "      <td>208.8</td>\n",
       "      <td>111</td>\n",
       "      <td>9.40</td>\n",
       "      <td>12.7</td>\n",
       "      <td>6</td>\n",
       "      <td>3.43</td>\n",
       "      <td>4</td>\n",
       "      <td>0</td>\n",
       "      <td>0</td>\n",
       "      <td>1</td>\n",
       "    </tr>\n",
       "    <tr>\n",
       "      <th>9</th>\n",
       "      <td>0</td>\n",
       "      <td>187.7</td>\n",
       "      <td>127</td>\n",
       "      <td>31.91</td>\n",
       "      <td>163.4</td>\n",
       "      <td>148</td>\n",
       "      <td>13.89</td>\n",
       "      <td>196.0</td>\n",
       "      <td>94</td>\n",
       "      <td>8.82</td>\n",
       "      <td>9.1</td>\n",
       "      <td>5</td>\n",
       "      <td>2.46</td>\n",
       "      <td>0</td>\n",
       "      <td>0</td>\n",
       "      <td>0</td>\n",
       "      <td>0</td>\n",
       "    </tr>\n",
       "  </tbody>\n",
       "</table>\n",
       "</div>"
      ],
      "text/plain": [
       "   number_vmail_messages  total_day_minutes  total_day_calls  \\\n",
       "0                     26              161.6              123   \n",
       "1                      0              243.4              114   \n",
       "2                      0              299.4               71   \n",
       "3                      0              166.7              113   \n",
       "4                     24              218.2               88   \n",
       "5                      0              157.0               79   \n",
       "6                      0              184.5               97   \n",
       "7                     37              258.6               84   \n",
       "8                      0              129.1              137   \n",
       "9                      0              187.7              127   \n",
       "\n",
       "   total_day_charge  total_eve_minutes  total_eve_calls  total_eve_charge  \\\n",
       "0             27.47              195.5              103             16.62   \n",
       "1             41.38              121.2              110             10.30   \n",
       "2             50.90               61.9               88              5.26   \n",
       "3             28.34              148.3              122             12.61   \n",
       "4             37.09              348.5              108             29.62   \n",
       "5             26.69              103.1               94              8.76   \n",
       "6             31.37              351.6               80             29.89   \n",
       "7             43.96              222.0              111             18.87   \n",
       "8             21.95              228.5               83             19.42   \n",
       "9             31.91              163.4              148             13.89   \n",
       "\n",
       "   total_night_minutes  total_night_calls  total_night_charge  \\\n",
       "0                254.4                103               11.45   \n",
       "1                162.6                104                7.32   \n",
       "2                196.9                 89                8.86   \n",
       "3                186.9                121                8.41   \n",
       "4                212.6                118                9.57   \n",
       "5                211.8                 96                9.53   \n",
       "6                215.8                 90                9.71   \n",
       "7                326.4                 97               14.69   \n",
       "8                208.8                111                9.40   \n",
       "9                196.0                 94                8.82   \n",
       "\n",
       "   total_intl_minutes  total_intl_calls  total_intl_charge  \\\n",
       "0                13.7                 3               3.70   \n",
       "1                12.2                 5               3.29   \n",
       "2                 6.6                 7               1.78   \n",
       "3                10.1                 3               2.73   \n",
       "4                 7.5                 7               2.03   \n",
       "5                 7.1                 6               1.92   \n",
       "6                 8.7                 4               2.35   \n",
       "7                11.2                 5               3.02   \n",
       "8                12.7                 6               3.43   \n",
       "9                 9.1                 5               2.46   \n",
       "\n",
       "   number_customer_service_calls  international_plan_yes  voice_mail_plan_yes  \\\n",
       "0                              1                       0                    1   \n",
       "1                              0                       0                    0   \n",
       "2                              2                       1                    0   \n",
       "3                              3                       1                    0   \n",
       "4                              3                       0                    1   \n",
       "5                              0                       1                    0   \n",
       "6                              1                       0                    0   \n",
       "7                              0                       1                    1   \n",
       "8                              4                       0                    0   \n",
       "9                              0                       0                    0   \n",
       "\n",
       "   churn_yes  \n",
       "0          0  \n",
       "1          0  \n",
       "2          0  \n",
       "3          0  \n",
       "4          0  \n",
       "5          0  \n",
       "6          0  \n",
       "7          0  \n",
       "8          1  \n",
       "9          0  "
      ]
     },
     "execution_count": 6,
     "metadata": {},
     "output_type": "execute_result"
    }
   ],
   "source": [
    "df.drop(columns=df.columns[:3], inplace=True) # Deletandos as três primeiras colunas (índices 0, 1 e 2)\n",
    "df = pd.get_dummies(data=df, drop_first=True) # Transformando os atributos categóricos em binários\n",
    "df.head(10)"
   ]
  },
  {
   "cell_type": "markdown",
   "id": "animal-assets",
   "metadata": {},
   "source": [
    "## Preparação do modelo para validação\n",
    "* holdout\n",
    "* holdout repetido\n",
    "* k-fold cross validation (kf)\n",
    "* leave-one-out (loo)"
   ]
  },
  {
   "cell_type": "markdown",
   "id": "corrected-northwest",
   "metadata": {},
   "source": [
    "### Primeiro, separar conjuntos em X (input) e y (output class)"
   ]
  },
  {
   "cell_type": "code",
   "execution_count": 7,
   "id": "purple-processor",
   "metadata": {},
   "outputs": [],
   "source": [
    "X = df.drop(columns=\"churn_yes\")\n",
    "y = df.churn_yes"
   ]
  },
  {
   "cell_type": "code",
   "execution_count": 8,
   "id": "higher-cradle",
   "metadata": {},
   "outputs": [
    {
     "data": {
      "text/plain": [
       "((4250, 16), (4250,), (4250, 17))"
      ]
     },
     "execution_count": 8,
     "metadata": {},
     "output_type": "execute_result"
    }
   ],
   "source": [
    "np.shape(X), np.shape(y), np.shape(df)"
   ]
  },
  {
   "cell_type": "markdown",
   "id": "pressed-birthday",
   "metadata": {},
   "source": [
    "### Holdout (80% treino e 20% teste)"
   ]
  },
  {
   "cell_type": "code",
   "execution_count": 9,
   "id": "external-mobile",
   "metadata": {},
   "outputs": [],
   "source": [
    "X_train, X_test, y_train, y_test = train_test_split(X, y, test_size=0.2, random_state=42)"
   ]
  },
  {
   "cell_type": "code",
   "execution_count": 10,
   "id": "offshore-arena",
   "metadata": {},
   "outputs": [
    {
     "data": {
      "text/plain": [
       "((3400, 16), (850, 16), (3400,), (850,))"
      ]
     },
     "execution_count": 10,
     "metadata": {},
     "output_type": "execute_result"
    }
   ],
   "source": [
    "np.shape(X_train), np.shape(X_test), np.shape(y_train), np.shape(y_test)"
   ]
  },
  {
   "cell_type": "code",
   "execution_count": 11,
   "id": "illegal-regression",
   "metadata": {
    "scrolled": true
   },
   "outputs": [
    {
     "data": {
      "text/html": [
       "<div>\n",
       "<style scoped>\n",
       "    .dataframe tbody tr th:only-of-type {\n",
       "        vertical-align: middle;\n",
       "    }\n",
       "\n",
       "    .dataframe tbody tr th {\n",
       "        vertical-align: top;\n",
       "    }\n",
       "\n",
       "    .dataframe thead th {\n",
       "        text-align: right;\n",
       "    }\n",
       "</style>\n",
       "<table border=\"1\" class=\"dataframe\">\n",
       "  <thead>\n",
       "    <tr style=\"text-align: right;\">\n",
       "      <th></th>\n",
       "      <th>number_vmail_messages</th>\n",
       "      <th>total_day_minutes</th>\n",
       "      <th>total_day_calls</th>\n",
       "      <th>total_day_charge</th>\n",
       "      <th>total_eve_minutes</th>\n",
       "      <th>total_eve_calls</th>\n",
       "      <th>total_eve_charge</th>\n",
       "      <th>total_night_minutes</th>\n",
       "      <th>total_night_calls</th>\n",
       "      <th>total_night_charge</th>\n",
       "      <th>total_intl_minutes</th>\n",
       "      <th>total_intl_calls</th>\n",
       "      <th>total_intl_charge</th>\n",
       "      <th>number_customer_service_calls</th>\n",
       "      <th>international_plan_yes</th>\n",
       "      <th>voice_mail_plan_yes</th>\n",
       "    </tr>\n",
       "  </thead>\n",
       "  <tbody>\n",
       "    <tr>\n",
       "      <th>1340</th>\n",
       "      <td>0</td>\n",
       "      <td>180.0</td>\n",
       "      <td>119</td>\n",
       "      <td>30.60</td>\n",
       "      <td>198.8</td>\n",
       "      <td>126</td>\n",
       "      <td>16.90</td>\n",
       "      <td>217.1</td>\n",
       "      <td>70</td>\n",
       "      <td>9.77</td>\n",
       "      <td>12.4</td>\n",
       "      <td>3</td>\n",
       "      <td>3.35</td>\n",
       "      <td>1</td>\n",
       "      <td>1</td>\n",
       "      <td>0</td>\n",
       "    </tr>\n",
       "    <tr>\n",
       "      <th>3790</th>\n",
       "      <td>35</td>\n",
       "      <td>190.7</td>\n",
       "      <td>100</td>\n",
       "      <td>32.42</td>\n",
       "      <td>209.7</td>\n",
       "      <td>107</td>\n",
       "      <td>17.82</td>\n",
       "      <td>202.5</td>\n",
       "      <td>101</td>\n",
       "      <td>9.11</td>\n",
       "      <td>12.4</td>\n",
       "      <td>5</td>\n",
       "      <td>3.35</td>\n",
       "      <td>1</td>\n",
       "      <td>0</td>\n",
       "      <td>1</td>\n",
       "    </tr>\n",
       "    <tr>\n",
       "      <th>2647</th>\n",
       "      <td>17</td>\n",
       "      <td>204.9</td>\n",
       "      <td>84</td>\n",
       "      <td>34.83</td>\n",
       "      <td>201.0</td>\n",
       "      <td>102</td>\n",
       "      <td>17.09</td>\n",
       "      <td>219.7</td>\n",
       "      <td>97</td>\n",
       "      <td>9.89</td>\n",
       "      <td>11.3</td>\n",
       "      <td>5</td>\n",
       "      <td>3.05</td>\n",
       "      <td>0</td>\n",
       "      <td>0</td>\n",
       "      <td>1</td>\n",
       "    </tr>\n",
       "    <tr>\n",
       "      <th>4009</th>\n",
       "      <td>0</td>\n",
       "      <td>202.0</td>\n",
       "      <td>100</td>\n",
       "      <td>34.34</td>\n",
       "      <td>168.9</td>\n",
       "      <td>90</td>\n",
       "      <td>14.36</td>\n",
       "      <td>231.8</td>\n",
       "      <td>119</td>\n",
       "      <td>10.43</td>\n",
       "      <td>3.4</td>\n",
       "      <td>4</td>\n",
       "      <td>0.92</td>\n",
       "      <td>1</td>\n",
       "      <td>0</td>\n",
       "      <td>0</td>\n",
       "    </tr>\n",
       "    <tr>\n",
       "      <th>3537</th>\n",
       "      <td>0</td>\n",
       "      <td>158.1</td>\n",
       "      <td>107</td>\n",
       "      <td>26.88</td>\n",
       "      <td>181.5</td>\n",
       "      <td>101</td>\n",
       "      <td>15.43</td>\n",
       "      <td>200.3</td>\n",
       "      <td>126</td>\n",
       "      <td>9.01</td>\n",
       "      <td>8.3</td>\n",
       "      <td>7</td>\n",
       "      <td>2.24</td>\n",
       "      <td>1</td>\n",
       "      <td>0</td>\n",
       "      <td>0</td>\n",
       "    </tr>\n",
       "  </tbody>\n",
       "</table>\n",
       "</div>"
      ],
      "text/plain": [
       "      number_vmail_messages  total_day_minutes  total_day_calls  \\\n",
       "1340                      0              180.0              119   \n",
       "3790                     35              190.7              100   \n",
       "2647                     17              204.9               84   \n",
       "4009                      0              202.0              100   \n",
       "3537                      0              158.1              107   \n",
       "\n",
       "      total_day_charge  total_eve_minutes  total_eve_calls  total_eve_charge  \\\n",
       "1340             30.60              198.8              126             16.90   \n",
       "3790             32.42              209.7              107             17.82   \n",
       "2647             34.83              201.0              102             17.09   \n",
       "4009             34.34              168.9               90             14.36   \n",
       "3537             26.88              181.5              101             15.43   \n",
       "\n",
       "      total_night_minutes  total_night_calls  total_night_charge  \\\n",
       "1340                217.1                 70                9.77   \n",
       "3790                202.5                101                9.11   \n",
       "2647                219.7                 97                9.89   \n",
       "4009                231.8                119               10.43   \n",
       "3537                200.3                126                9.01   \n",
       "\n",
       "      total_intl_minutes  total_intl_calls  total_intl_charge  \\\n",
       "1340                12.4                 3               3.35   \n",
       "3790                12.4                 5               3.35   \n",
       "2647                11.3                 5               3.05   \n",
       "4009                 3.4                 4               0.92   \n",
       "3537                 8.3                 7               2.24   \n",
       "\n",
       "      number_customer_service_calls  international_plan_yes  \\\n",
       "1340                              1                       1   \n",
       "3790                              1                       0   \n",
       "2647                              0                       0   \n",
       "4009                              1                       0   \n",
       "3537                              1                       0   \n",
       "\n",
       "      voice_mail_plan_yes  \n",
       "1340                    0  \n",
       "3790                    1  \n",
       "2647                    1  \n",
       "4009                    0  \n",
       "3537                    0  "
      ]
     },
     "execution_count": 11,
     "metadata": {},
     "output_type": "execute_result"
    }
   ],
   "source": [
    "X_train.head(5)"
   ]
  },
  {
   "cell_type": "code",
   "execution_count": 12,
   "id": "expected-wrestling",
   "metadata": {},
   "outputs": [
    {
     "data": {
      "text/plain": [
       "1340    0\n",
       "3790    0\n",
       "2647    0\n",
       "4009    0\n",
       "3537    0\n",
       "Name: churn_yes, dtype: uint8"
      ]
     },
     "execution_count": 12,
     "metadata": {},
     "output_type": "execute_result"
    }
   ],
   "source": [
    "y_train.head(5)"
   ]
  },
  {
   "cell_type": "markdown",
   "id": "alleged-anxiety",
   "metadata": {},
   "source": [
    "### Holdout Repetido (10 repetições)"
   ]
  },
  {
   "cell_type": "code",
   "execution_count": 13,
   "id": "compact-faculty",
   "metadata": {},
   "outputs": [
    {
     "name": "stdout",
     "output_type": "stream",
     "text": [
      "Int64Index([3513, 1049, 3741, 1638, 1520, 1396,  137, 3413,   51, 1881,\n",
      "            ...\n",
      "             552, 2817, 3689, 2841,  358, 2096, 2494, 2660, 3572,  365],\n",
      "           dtype='int64', length=3400)\n",
      "Int64Index([2623, 3751, 3265, 1250, 3465, 1112, 3786,  728,   99, 1827,\n",
      "            ...\n",
      "            3093,  879, 1793, 3141, 2586, 3205, 1269, 4143,  311, 3663],\n",
      "           dtype='int64', length=3400)\n",
      "Int64Index([ 732, 3875, 3479,  985, 2535, 2543, 4087, 1024, 1314, 1939,\n",
      "            ...\n",
      "            1315, 2765, 3630,  792, 2850, 2019, 3649, 1985, 3704,  231],\n",
      "           dtype='int64', length=3400)\n",
      "Int64Index([ 889, 2220, 1172, 1792, 3535,   76, 3619, 3846,  497, 2890,\n",
      "            ...\n",
      "            2193, 2661,  815, 1045, 3488, 2024, 1946, 2183, 2004, 3671],\n",
      "           dtype='int64', length=3400)\n",
      "Int64Index([3925,  596, 2891, 1139, 2117, 1176, 3595,  633, 1664, 1680,\n",
      "            ...\n",
      "            3067, 1490, 2303, 3488, 2882,  641, 1765, 3878, 3018, 2395],\n",
      "           dtype='int64', length=3400)\n",
      "Int64Index([1553, 3751, 3335, 3173,  389,  847,  271, 3395, 3900, 1991,\n",
      "            ...\n",
      "            3577, 4237, 1205, 3633, 1616, 1804, 3205, 2122, 3175,  711],\n",
      "           dtype='int64', length=3400)\n",
      "Int64Index([1709, 2114, 3083,   66,  447, 1817, 1216, 3239, 2946, 2597,\n",
      "            ...\n",
      "            3834, 3356, 4151,  953,  275, 3997, 1054, 3100, 3044,  710],\n",
      "           dtype='int64', length=3400)\n",
      "Int64Index([1208, 4232, 3040, 1488,  480, 3638, 2495, 1350,  297, 4237,\n",
      "            ...\n",
      "            1088,  628,  741, 2072, 2598,   71, 1890, 2850, 1210,  905],\n",
      "           dtype='int64', length=3400)\n",
      "Int64Index([3680, 4151,  918, 3473, 3094, 1115, 2786, 2401, 3708, 1495,\n",
      "            ...\n",
      "            2018, 1699, 2260, 2372, 2700, 1374,   91, 2271,  629, 3343],\n",
      "           dtype='int64', length=3400)\n",
      "Int64Index([ 708, 1831,  279,  107, 4007, 4125, 2358, 2878, 2187,  643,\n",
      "            ...\n",
      "            3122, 3264, 1934, 3913, 2831,  252, 1551, 2445, 1271, 4161],\n",
      "           dtype='int64', length=3400)\n"
     ]
    }
   ],
   "source": [
    "for i in range(10):\n",
    "    X_train, X_test, y_train, y_test = train_test_split(X, y, test_size=0.2)\n",
    "    # Aqui vocês colocam o algoritmo para treinar e testar...\n",
    "    print(X_train.index)"
   ]
  },
  {
   "cell_type": "markdown",
   "id": "strange-object",
   "metadata": {},
   "source": [
    "### k-fold cross validation utilizando k = 10"
   ]
  },
  {
   "cell_type": "code",
   "execution_count": 14,
   "id": "variable-grain",
   "metadata": {},
   "outputs": [],
   "source": [
    "# precisamos importar as bibliotecas kfol, leave-one-out, cross_val_score e também uma técnica de mineração\n",
    "from sklearn.model_selection import KFold, LeaveOneOut, cross_val_score\n",
    "from sklearn.tree import DecisionTreeClassifier"
   ]
  },
  {
   "cell_type": "code",
   "execution_count": 15,
   "id": "appointed-drill",
   "metadata": {},
   "outputs": [],
   "source": [
    "DT = DecisionTreeClassifier()"
   ]
  },
  {
   "cell_type": "code",
   "execution_count": 16,
   "id": "actual-talent",
   "metadata": {},
   "outputs": [],
   "source": [
    "kf = KFold(n_splits=10)\n",
    "loo = LeaveOneOut()"
   ]
  },
  {
   "cell_type": "code",
   "execution_count": 17,
   "id": "satisfactory-corruption",
   "metadata": {},
   "outputs": [],
   "source": [
    "# Primeiro, utilizando o k-fold\n",
    "acc_kf = cross_val_score(estimator=DT, X=X_train, y=y_train, cv=kf, scoring=\"accuracy\")"
   ]
  },
  {
   "cell_type": "code",
   "execution_count": 18,
   "id": "together-living",
   "metadata": {},
   "outputs": [
    {
     "data": {
      "text/plain": [
       "array([0.91764706, 0.94117647, 0.92941176, 0.93529412, 0.93823529,\n",
       "       0.90882353, 0.92941176, 0.90294118, 0.92058824, 0.90882353])"
      ]
     },
     "execution_count": 18,
     "metadata": {},
     "output_type": "execute_result"
    }
   ],
   "source": [
    "acc_kf"
   ]
  },
  {
   "cell_type": "code",
   "execution_count": 19,
   "id": "protecting-athletics",
   "metadata": {},
   "outputs": [
    {
     "name": "stdout",
     "output_type": "stream",
     "text": [
      "A acurácia média obtida pelos modelos é de 0.923235294117647\n"
     ]
    }
   ],
   "source": [
    "print(f\"A acurácia média obtida pelos modelos é de {np.mean(acc_kf)}\")"
   ]
  },
  {
   "cell_type": "markdown",
   "id": "integral-ireland",
   "metadata": {},
   "source": [
    "### Leave-one-out (k=n)"
   ]
  },
  {
   "cell_type": "markdown",
   "id": "structured-spoke",
   "metadata": {},
   "source": [
    "acc_loo = cross_val_score(estimator=DT, X=X_train, y=y_train, cv=loo, scoring=\"accuracy\")"
   ]
  },
  {
   "cell_type": "markdown",
   "id": "bibliographic-republican",
   "metadata": {},
   "source": [
    "acc_loo"
   ]
  },
  {
   "cell_type": "markdown",
   "id": "outside-royal",
   "metadata": {},
   "source": [
    "print(f\"A acurácia média obtida pelos modelos é de {np.mean(acc_loo)}\")"
   ]
  },
  {
   "cell_type": "markdown",
   "id": "honest-disclaimer",
   "metadata": {},
   "source": [
    "## Fazendo o balanceamento de classes (realizar no conjunto de treinamento)\n",
    "* Random undersampling\n",
    "* Random oversampling"
   ]
  },
  {
   "cell_type": "code",
   "execution_count": 20,
   "id": "obvious-agent",
   "metadata": {},
   "outputs": [],
   "source": [
    "# !pip install imbalanced-learn"
   ]
  },
  {
   "cell_type": "code",
   "execution_count": 21,
   "id": "cordless-complex",
   "metadata": {},
   "outputs": [],
   "source": [
    "from imblearn import under_sampling, over_sampling"
   ]
  },
  {
   "cell_type": "code",
   "execution_count": 23,
   "id": "statewide-russell",
   "metadata": {},
   "outputs": [
    {
     "data": {
      "text/plain": [
       "0    2911\n",
       "1     489\n",
       "Name: churn_yes, dtype: int64"
      ]
     },
     "execution_count": 23,
     "metadata": {},
     "output_type": "execute_result"
    }
   ],
   "source": [
    "y_train.value_counts()"
   ]
  },
  {
   "cell_type": "code",
   "execution_count": 24,
   "id": "elect-acoustic",
   "metadata": {},
   "outputs": [
    {
     "data": {
      "text/plain": [
       "0.1438235294117647"
      ]
     },
     "execution_count": 24,
     "metadata": {},
     "output_type": "execute_result"
    }
   ],
   "source": [
    "489/(2911+489)"
   ]
  },
  {
   "cell_type": "markdown",
   "id": "lucky-party",
   "metadata": {},
   "source": [
    "### Undersampling"
   ]
  },
  {
   "cell_type": "code",
   "execution_count": 25,
   "id": "alone-consultancy",
   "metadata": {},
   "outputs": [],
   "source": [
    "# Retirando amostras da classe mais favorecida (neste caso churn_yes = 0)\n",
    "under = under_sampling.RandomUnderSampler(sampling_strategy=0.9)"
   ]
  },
  {
   "cell_type": "code",
   "execution_count": 26,
   "id": "bronze-raise",
   "metadata": {},
   "outputs": [],
   "source": [
    "X_under, y_under = under.fit_resample(X_train, y_train)"
   ]
  },
  {
   "cell_type": "code",
   "execution_count": 27,
   "id": "hazardous-functionality",
   "metadata": {},
   "outputs": [
    {
     "data": {
      "text/plain": [
       "((1032, 16), (1032,))"
      ]
     },
     "execution_count": 27,
     "metadata": {},
     "output_type": "execute_result"
    }
   ],
   "source": [
    "np.shape(X_under), np.shape(y_under)"
   ]
  },
  {
   "cell_type": "code",
   "execution_count": 28,
   "id": "proud-asset",
   "metadata": {},
   "outputs": [
    {
     "data": {
      "text/plain": [
       "0    543\n",
       "1    489\n",
       "Name: churn_yes, dtype: int64"
      ]
     },
     "execution_count": 28,
     "metadata": {},
     "output_type": "execute_result"
    }
   ],
   "source": [
    "y_under.value_counts()"
   ]
  },
  {
   "cell_type": "code",
   "execution_count": 30,
   "id": "sharing-genre",
   "metadata": {},
   "outputs": [
    {
     "data": {
      "text/plain": [
       "0.9005524861878453"
      ]
     },
     "execution_count": 30,
     "metadata": {},
     "output_type": "execute_result"
    }
   ],
   "source": [
    "489/(543)"
   ]
  },
  {
   "cell_type": "markdown",
   "id": "silent-saskatchewan",
   "metadata": {},
   "source": [
    "### Oversampling"
   ]
  },
  {
   "cell_type": "code",
   "execution_count": 31,
   "id": "soviet-assistant",
   "metadata": {},
   "outputs": [],
   "source": [
    "# Reamostragem da classe menos favorecida (neste caso churn_yes = 1)\n",
    "over = over_sampling.RandomOverSampler(sampling_strategy=0.9)"
   ]
  },
  {
   "cell_type": "code",
   "execution_count": 32,
   "id": "brown-metabolism",
   "metadata": {},
   "outputs": [],
   "source": [
    "X_over, y_over = over.fit_resample(X_train, y_train)"
   ]
  },
  {
   "cell_type": "code",
   "execution_count": 33,
   "id": "dental-climb",
   "metadata": {},
   "outputs": [
    {
     "data": {
      "text/plain": [
       "((5530, 16), (5530,))"
      ]
     },
     "execution_count": 33,
     "metadata": {},
     "output_type": "execute_result"
    }
   ],
   "source": [
    "np.shape(X_over), np.shape(y_over)"
   ]
  },
  {
   "cell_type": "code",
   "execution_count": 34,
   "id": "minute-watershed",
   "metadata": {},
   "outputs": [
    {
     "data": {
      "text/plain": [
       "0    2911\n",
       "1    2619\n",
       "Name: churn_yes, dtype: int64"
      ]
     },
     "execution_count": 34,
     "metadata": {},
     "output_type": "execute_result"
    }
   ],
   "source": [
    "y_over.value_counts()"
   ]
  },
  {
   "cell_type": "code",
   "execution_count": 35,
   "id": "powerful-management",
   "metadata": {},
   "outputs": [
    {
     "data": {
      "text/plain": [
       "0.8996908278941944"
      ]
     },
     "execution_count": 35,
     "metadata": {},
     "output_type": "execute_result"
    }
   ],
   "source": [
    "2619/2911"
   ]
  },
  {
   "cell_type": "markdown",
   "id": "graduate-event",
   "metadata": {},
   "source": [
    "## Testando a acurácia do modelo com árvores de decisão e validação k-fold"
   ]
  },
  {
   "cell_type": "code",
   "execution_count": 36,
   "id": "multiple-arnold",
   "metadata": {},
   "outputs": [],
   "source": [
    "acc_under = cross_val_score(estimator=DT, X=X_under, y=y_under, cv=kf, scoring=\"accuracy\")\n",
    "acc_over = cross_val_score(estimator=DT, X=X_over, y=y_over, cv=kf, scoring=\"accuracy\")"
   ]
  },
  {
   "cell_type": "code",
   "execution_count": 37,
   "id": "sought-tunisia",
   "metadata": {},
   "outputs": [
    {
     "name": "stdout",
     "output_type": "stream",
     "text": [
      "Acurácia média utilizando conjunto original = 0.92\n",
      "Acurácia média utilizando Undersampling = 0.78\n",
      "Acurácia média utilizando Oversampling = 0.97\n"
     ]
    }
   ],
   "source": [
    "print(f\"Acurácia média utilizando conjunto original = {np.mean(acc_kf):.2f}\")\n",
    "print(f\"Acurácia média utilizando Undersampling = {np.mean(acc_under):.2f}\")\n",
    "print(f\"Acurácia média utilizando Oversampling = {np.mean(acc_over):.2f}\")"
   ]
  },
  {
   "cell_type": "code",
   "execution_count": 38,
   "id": "fresh-press",
   "metadata": {},
   "outputs": [
    {
     "data": {
      "text/plain": [
       "array([0.74038462, 0.74038462, 0.74757282, 0.78640777, 0.81553398,\n",
       "       0.7961165 , 0.83495146, 0.83495146, 0.80582524, 0.73786408])"
      ]
     },
     "execution_count": 38,
     "metadata": {},
     "output_type": "execute_result"
    }
   ],
   "source": [
    "acc_under"
   ]
  },
  {
   "cell_type": "code",
   "execution_count": 39,
   "id": "promising-james",
   "metadata": {},
   "outputs": [
    {
     "data": {
      "text/plain": [
       "array([0.94755877, 0.93851718, 0.94213382, 0.95479204, 0.94575045,\n",
       "       0.960217  , 0.98734177, 1.        , 1.        , 1.        ])"
      ]
     },
     "execution_count": 39,
     "metadata": {},
     "output_type": "execute_result"
    }
   ],
   "source": [
    "acc_over"
   ]
  }
 ],
 "metadata": {
  "kernelspec": {
   "display_name": "Python 3 (ipykernel)",
   "language": "python",
   "name": "python3"
  },
  "language_info": {
   "codemirror_mode": {
    "name": "ipython",
    "version": 3
   },
   "file_extension": ".py",
   "mimetype": "text/x-python",
   "name": "python",
   "nbconvert_exporter": "python",
   "pygments_lexer": "ipython3",
   "version": "3.10.4"
  }
 },
 "nbformat": 4,
 "nbformat_minor": 5
}
